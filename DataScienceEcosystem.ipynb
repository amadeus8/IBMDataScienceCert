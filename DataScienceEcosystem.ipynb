{
 "cells": [
  {
   "cell_type": "markdown",
   "id": "01fe6b7f",
   "metadata": {},
   "source": [
    "# Data Science Tools and Ecosystem"
   ]
  },
  {
   "cell_type": "markdown",
   "id": "ef93ffe7",
   "metadata": {},
   "source": [
    "In this notebook, Data Science Tools and Ecosystem are summarized."
   ]
  },
  {
   "cell_type": "markdown",
   "id": "eb98849f",
   "metadata": {},
   "source": [
    "**Objectives:**\n",
    "- list popular language for data science\n",
    "- list commonly used libraries by data scientists\n",
    "- list data science development tools\n",
    "- evaluate arithmetic expressions in Jupyter"
   ]
  },
  {
   "cell_type": "markdown",
   "id": "dd2aeeda",
   "metadata": {},
   "source": [
    "Some of the popular languages that data scientists use are:\n",
    "1. Python\n",
    "2. R\n",
    "3. Scala"
   ]
  },
  {
   "cell_type": "markdown",
   "id": "3e2094d6",
   "metadata": {},
   "source": [
    "Some of the libraries commonly used by data scientists are:\n",
    "1. matplotlib\n",
    "2. nltk\n",
    "3. seaborn"
   ]
  },
  {
   "cell_type": "markdown",
   "id": "6a76030c",
   "metadata": {},
   "source": [
    "| Data Science Tools |\n",
    "-----------\n",
    "| RStudio |\n",
    "| Microsoft Visual Studio |\n",
    "| Spyder |"
   ]
  },
  {
   "cell_type": "markdown",
   "id": "91593ca8",
   "metadata": {},
   "source": [
    "### Below are a few examples of evaluating arithmetic expressions in Python."
   ]
  },
  {
   "cell_type": "code",
   "execution_count": 1,
   "id": "a1a42015",
   "metadata": {},
   "outputs": [
    {
     "data": {
      "text/plain": [
       "17"
      ]
     },
     "execution_count": 1,
     "metadata": {},
     "output_type": "execute_result"
    }
   ],
   "source": [
    "# This is a simple arithmetic express to multiply\n",
    "# then add integers.\n",
    "\n",
    "(3*4)+5"
   ]
  },
  {
   "cell_type": "code",
   "execution_count": 2,
   "id": "673197fc",
   "metadata": {},
   "outputs": [
    {
     "name": "stdout",
     "output_type": "stream",
     "text": [
      "200 converts to 3 hour(s) and 20 minutes.\n"
     ]
    }
   ],
   "source": [
    "import math\n",
    "\n",
    "def minutes_to_hours(x):\n",
    "    hours = math.floor(x/60)\n",
    "    minutes = x % 60\n",
    "    print(f\"{x} converts to {hours} hour(s) and {minutes} minutes.\")\n",
    "\n",
    "# This will convert 200 minutes to hours.\n",
    "minutes_to_hours(200)"
   ]
  },
  {
   "cell_type": "markdown",
   "id": "f7e897e5",
   "metadata": {},
   "source": [
    "## Author\n",
    "Lauren McClure"
   ]
  }
 ],
 "metadata": {
  "kernelspec": {
   "display_name": "Python 3 (ipykernel)",
   "language": "python",
   "name": "python3"
  },
  "language_info": {
   "codemirror_mode": {
    "name": "ipython",
    "version": 3
   },
   "file_extension": ".py",
   "mimetype": "text/x-python",
   "name": "python",
   "nbconvert_exporter": "python",
   "pygments_lexer": "ipython3",
   "version": "3.11.5"
  }
 },
 "nbformat": 4,
 "nbformat_minor": 5
}
